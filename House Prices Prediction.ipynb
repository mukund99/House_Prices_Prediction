{
 "cells": [
  {
   "cell_type": "markdown",
   "id": "5f4399da",
   "metadata": {},
   "source": [
    "# Importing the Libraries"
   ]
  },
  {
   "cell_type": "code",
   "execution_count": 1,
   "id": "3807cac0",
   "metadata": {},
   "outputs": [],
   "source": [
    "import numpy as np\n",
    "import pandas as pd\n",
    "import matplotlib.pyplot as plt\n",
    "import seaborn as sb\n",
    "import warnings\n",
    "warnings.filterwarnings(\"ignore\")"
   ]
  },
  {
   "cell_type": "markdown",
   "id": "946733df",
   "metadata": {},
   "source": [
    "# Importing the Training Dataset "
   ]
  },
  {
   "cell_type": "code",
   "execution_count": 2,
   "id": "a0523747",
   "metadata": {},
   "outputs": [],
   "source": [
    "train = pd.read_csv('train_house.csv')"
   ]
  },
  {
   "cell_type": "markdown",
   "id": "7d7f9a62",
   "metadata": {},
   "source": [
    "# Exploratory Data Analysis"
   ]
  },
  {
   "cell_type": "code",
   "execution_count": 3,
   "id": "ed52822d",
   "metadata": {},
   "outputs": [
    {
     "data": {
      "text/html": [
       "<div>\n",
       "<style scoped>\n",
       "    .dataframe tbody tr th:only-of-type {\n",
       "        vertical-align: middle;\n",
       "    }\n",
       "\n",
       "    .dataframe tbody tr th {\n",
       "        vertical-align: top;\n",
       "    }\n",
       "\n",
       "    .dataframe thead th {\n",
       "        text-align: right;\n",
       "    }\n",
       "</style>\n",
       "<table border=\"1\" class=\"dataframe\">\n",
       "  <thead>\n",
       "    <tr style=\"text-align: right;\">\n",
       "      <th></th>\n",
       "      <th>Id</th>\n",
       "      <th>MSSubClass</th>\n",
       "      <th>MSZoning</th>\n",
       "      <th>LotFrontage</th>\n",
       "      <th>LotArea</th>\n",
       "      <th>Street</th>\n",
       "      <th>Alley</th>\n",
       "      <th>LotShape</th>\n",
       "      <th>LandContour</th>\n",
       "      <th>Utilities</th>\n",
       "      <th>...</th>\n",
       "      <th>PoolArea</th>\n",
       "      <th>PoolQC</th>\n",
       "      <th>Fence</th>\n",
       "      <th>MiscFeature</th>\n",
       "      <th>MiscVal</th>\n",
       "      <th>MoSold</th>\n",
       "      <th>YrSold</th>\n",
       "      <th>SaleType</th>\n",
       "      <th>SaleCondition</th>\n",
       "      <th>SalePrice</th>\n",
       "    </tr>\n",
       "  </thead>\n",
       "  <tbody>\n",
       "    <tr>\n",
       "      <th>0</th>\n",
       "      <td>1</td>\n",
       "      <td>60</td>\n",
       "      <td>RL</td>\n",
       "      <td>65.0</td>\n",
       "      <td>8450</td>\n",
       "      <td>Pave</td>\n",
       "      <td>NaN</td>\n",
       "      <td>Reg</td>\n",
       "      <td>Lvl</td>\n",
       "      <td>AllPub</td>\n",
       "      <td>...</td>\n",
       "      <td>0</td>\n",
       "      <td>NaN</td>\n",
       "      <td>NaN</td>\n",
       "      <td>NaN</td>\n",
       "      <td>0</td>\n",
       "      <td>2</td>\n",
       "      <td>2008</td>\n",
       "      <td>WD</td>\n",
       "      <td>Normal</td>\n",
       "      <td>208500</td>\n",
       "    </tr>\n",
       "    <tr>\n",
       "      <th>1</th>\n",
       "      <td>2</td>\n",
       "      <td>20</td>\n",
       "      <td>RL</td>\n",
       "      <td>80.0</td>\n",
       "      <td>9600</td>\n",
       "      <td>Pave</td>\n",
       "      <td>NaN</td>\n",
       "      <td>Reg</td>\n",
       "      <td>Lvl</td>\n",
       "      <td>AllPub</td>\n",
       "      <td>...</td>\n",
       "      <td>0</td>\n",
       "      <td>NaN</td>\n",
       "      <td>NaN</td>\n",
       "      <td>NaN</td>\n",
       "      <td>0</td>\n",
       "      <td>5</td>\n",
       "      <td>2007</td>\n",
       "      <td>WD</td>\n",
       "      <td>Normal</td>\n",
       "      <td>181500</td>\n",
       "    </tr>\n",
       "    <tr>\n",
       "      <th>2</th>\n",
       "      <td>3</td>\n",
       "      <td>60</td>\n",
       "      <td>RL</td>\n",
       "      <td>68.0</td>\n",
       "      <td>11250</td>\n",
       "      <td>Pave</td>\n",
       "      <td>NaN</td>\n",
       "      <td>IR1</td>\n",
       "      <td>Lvl</td>\n",
       "      <td>AllPub</td>\n",
       "      <td>...</td>\n",
       "      <td>0</td>\n",
       "      <td>NaN</td>\n",
       "      <td>NaN</td>\n",
       "      <td>NaN</td>\n",
       "      <td>0</td>\n",
       "      <td>9</td>\n",
       "      <td>2008</td>\n",
       "      <td>WD</td>\n",
       "      <td>Normal</td>\n",
       "      <td>223500</td>\n",
       "    </tr>\n",
       "    <tr>\n",
       "      <th>3</th>\n",
       "      <td>4</td>\n",
       "      <td>70</td>\n",
       "      <td>RL</td>\n",
       "      <td>60.0</td>\n",
       "      <td>9550</td>\n",
       "      <td>Pave</td>\n",
       "      <td>NaN</td>\n",
       "      <td>IR1</td>\n",
       "      <td>Lvl</td>\n",
       "      <td>AllPub</td>\n",
       "      <td>...</td>\n",
       "      <td>0</td>\n",
       "      <td>NaN</td>\n",
       "      <td>NaN</td>\n",
       "      <td>NaN</td>\n",
       "      <td>0</td>\n",
       "      <td>2</td>\n",
       "      <td>2006</td>\n",
       "      <td>WD</td>\n",
       "      <td>Abnorml</td>\n",
       "      <td>140000</td>\n",
       "    </tr>\n",
       "    <tr>\n",
       "      <th>4</th>\n",
       "      <td>5</td>\n",
       "      <td>60</td>\n",
       "      <td>RL</td>\n",
       "      <td>84.0</td>\n",
       "      <td>14260</td>\n",
       "      <td>Pave</td>\n",
       "      <td>NaN</td>\n",
       "      <td>IR1</td>\n",
       "      <td>Lvl</td>\n",
       "      <td>AllPub</td>\n",
       "      <td>...</td>\n",
       "      <td>0</td>\n",
       "      <td>NaN</td>\n",
       "      <td>NaN</td>\n",
       "      <td>NaN</td>\n",
       "      <td>0</td>\n",
       "      <td>12</td>\n",
       "      <td>2008</td>\n",
       "      <td>WD</td>\n",
       "      <td>Normal</td>\n",
       "      <td>250000</td>\n",
       "    </tr>\n",
       "  </tbody>\n",
       "</table>\n",
       "<p>5 rows × 81 columns</p>\n",
       "</div>"
      ],
      "text/plain": [
       "   Id  MSSubClass MSZoning  LotFrontage  LotArea Street Alley LotShape  \\\n",
       "0   1          60       RL         65.0     8450   Pave   NaN      Reg   \n",
       "1   2          20       RL         80.0     9600   Pave   NaN      Reg   \n",
       "2   3          60       RL         68.0    11250   Pave   NaN      IR1   \n",
       "3   4          70       RL         60.0     9550   Pave   NaN      IR1   \n",
       "4   5          60       RL         84.0    14260   Pave   NaN      IR1   \n",
       "\n",
       "  LandContour Utilities  ... PoolArea PoolQC Fence MiscFeature MiscVal MoSold  \\\n",
       "0         Lvl    AllPub  ...        0    NaN   NaN         NaN       0      2   \n",
       "1         Lvl    AllPub  ...        0    NaN   NaN         NaN       0      5   \n",
       "2         Lvl    AllPub  ...        0    NaN   NaN         NaN       0      9   \n",
       "3         Lvl    AllPub  ...        0    NaN   NaN         NaN       0      2   \n",
       "4         Lvl    AllPub  ...        0    NaN   NaN         NaN       0     12   \n",
       "\n",
       "  YrSold  SaleType  SaleCondition  SalePrice  \n",
       "0   2008        WD         Normal     208500  \n",
       "1   2007        WD         Normal     181500  \n",
       "2   2008        WD         Normal     223500  \n",
       "3   2006        WD        Abnorml     140000  \n",
       "4   2008        WD         Normal     250000  \n",
       "\n",
       "[5 rows x 81 columns]"
      ]
     },
     "execution_count": 3,
     "metadata": {},
     "output_type": "execute_result"
    }
   ],
   "source": [
    "train.head()"
   ]
  },
  {
   "cell_type": "code",
   "execution_count": 4,
   "id": "aa224938",
   "metadata": {
    "scrolled": false
   },
   "outputs": [
    {
     "name": "stdout",
     "output_type": "stream",
     "text": [
      "<class 'pandas.core.frame.DataFrame'>\n",
      "RangeIndex: 1379 entries, 0 to 1378\n",
      "Data columns (total 81 columns):\n",
      " #   Column         Non-Null Count  Dtype  \n",
      "---  ------         --------------  -----  \n",
      " 0   Id             1379 non-null   int64  \n",
      " 1   MSSubClass     1379 non-null   int64  \n",
      " 2   MSZoning       1379 non-null   object \n",
      " 3   LotFrontage    1127 non-null   float64\n",
      " 4   LotArea        1379 non-null   int64  \n",
      " 5   Street         1379 non-null   object \n",
      " 6   Alley          82 non-null     object \n",
      " 7   LotShape       1379 non-null   object \n",
      " 8   LandContour    1379 non-null   object \n",
      " 9   Utilities      1379 non-null   object \n",
      " 10  LotConfig      1379 non-null   object \n",
      " 11  LandSlope      1379 non-null   object \n",
      " 12  Neighborhood   1379 non-null   object \n",
      " 13  Condition1     1379 non-null   object \n",
      " 14  Condition2     1379 non-null   object \n",
      " 15  BldgType       1379 non-null   object \n",
      " 16  HouseStyle     1379 non-null   object \n",
      " 17  OverallQual    1379 non-null   int64  \n",
      " 18  OverallCond    1379 non-null   int64  \n",
      " 19  YearBuilt      1379 non-null   int64  \n",
      " 20  YearRemodAdd   1379 non-null   int64  \n",
      " 21  RoofStyle      1379 non-null   object \n",
      " 22  RoofMatl       1379 non-null   object \n",
      " 23  Exterior1st    1379 non-null   object \n",
      " 24  Exterior2nd    1379 non-null   object \n",
      " 25  MasVnrType     1371 non-null   object \n",
      " 26  MasVnrArea     1371 non-null   float64\n",
      " 27  ExterQual      1379 non-null   object \n",
      " 28  ExterCond      1379 non-null   object \n",
      " 29  Foundation     1379 non-null   object \n",
      " 30  BsmtQual       1349 non-null   object \n",
      " 31  BsmtCond       1349 non-null   object \n",
      " 32  BsmtExposure   1348 non-null   object \n",
      " 33  BsmtFinType1   1349 non-null   object \n",
      " 34  BsmtFinSF1     1379 non-null   int64  \n",
      " 35  BsmtFinType2   1348 non-null   object \n",
      " 36  BsmtFinSF2     1379 non-null   int64  \n",
      " 37  BsmtUnfSF      1379 non-null   int64  \n",
      " 38  TotalBsmtSF    1379 non-null   int64  \n",
      " 39  Heating        1379 non-null   object \n",
      " 40  HeatingQC      1379 non-null   object \n",
      " 41  CentralAir     1379 non-null   object \n",
      " 42  Electrical     1378 non-null   object \n",
      " 43  1stFlrSF       1379 non-null   int64  \n",
      " 44  2ndFlrSF       1379 non-null   int64  \n",
      " 45  LowQualFinSF   1379 non-null   int64  \n",
      " 46  GrLivArea      1379 non-null   int64  \n",
      " 47  BsmtFullBath   1379 non-null   int64  \n",
      " 48  BsmtHalfBath   1379 non-null   int64  \n",
      " 49  FullBath       1379 non-null   int64  \n",
      " 50  HalfBath       1379 non-null   int64  \n",
      " 51  BedroomAbvGr   1379 non-null   int64  \n",
      " 52  KitchenAbvGr   1379 non-null   int64  \n",
      " 53  KitchenQual    1379 non-null   object \n",
      " 54  TotRmsAbvGrd   1379 non-null   int64  \n",
      " 55  Functional     1379 non-null   object \n",
      " 56  Fireplaces     1379 non-null   int64  \n",
      " 57  FireplaceQu    761 non-null    object \n",
      " 58  GarageType     1379 non-null   object \n",
      " 59  GarageYrBlt    1379 non-null   int64  \n",
      " 60  GarageFinish   1379 non-null   object \n",
      " 61  GarageCars     1379 non-null   int64  \n",
      " 62  GarageArea     1379 non-null   int64  \n",
      " 63  GarageQual     1379 non-null   object \n",
      " 64  GarageCond     1379 non-null   object \n",
      " 65  PavedDrive     1379 non-null   object \n",
      " 66  WoodDeckSF     1379 non-null   int64  \n",
      " 67  OpenPorchSF    1379 non-null   int64  \n",
      " 68  EnclosedPorch  1379 non-null   int64  \n",
      " 69  3SsnPorch      1379 non-null   int64  \n",
      " 70  ScreenPorch    1379 non-null   int64  \n",
      " 71  PoolArea       1379 non-null   int64  \n",
      " 72  PoolQC         7 non-null      object \n",
      " 73  Fence          265 non-null    object \n",
      " 74  MiscFeature    51 non-null     object \n",
      " 75  MiscVal        1379 non-null   int64  \n",
      " 76  MoSold         1379 non-null   int64  \n",
      " 77  YrSold         1379 non-null   int64  \n",
      " 78  SaleType       1379 non-null   object \n",
      " 79  SaleCondition  1379 non-null   object \n",
      " 80  SalePrice      1379 non-null   int64  \n",
      "dtypes: float64(2), int64(36), object(43)\n",
      "memory usage: 872.8+ KB\n"
     ]
    }
   ],
   "source": [
    "train.info()"
   ]
  },
  {
   "cell_type": "code",
   "execution_count": 5,
   "id": "7148e64e",
   "metadata": {},
   "outputs": [],
   "source": [
    "train.drop(['Id','Alley','FireplaceQu','PoolQC','Fence','MiscFeature'],axis=1,inplace=True)"
   ]
  },
  {
   "cell_type": "code",
   "execution_count": 6,
   "id": "83bf950a",
   "metadata": {},
   "outputs": [],
   "source": [
    "# Removing missing values\n",
    "frontage_index = train[train['LotFrontage'].isnull()].index.tolist()\n",
    "vnr_type_index = train[train['MasVnrType'].isnull()].index.tolist()\n",
    "vnr_area_index = train[train['MasVnrArea'].isnull()].index.tolist()\n",
    "qual_index = train[train['BsmtQual'].isnull()].index.tolist()\n",
    "cond_index = train[train['BsmtCond'].isnull()].index.tolist()\n",
    "exposure_index = train[train['BsmtExposure'].isnull()].index.tolist()\n",
    "type_1_index = train[train['BsmtFinType1'].isnull()].index.tolist()\n",
    "type_2_index = train[train['BsmtFinType2'].isnull()].index.tolist()\n",
    "electrical_index = train[train['Electrical'].isnull()].index.tolist()\n",
    "frontage_index.extend(vnr_type_index)\n",
    "frontage_index.extend(vnr_area_index)\n",
    "frontage_index.extend(qual_index)\n",
    "frontage_index.extend(cond_index)\n",
    "frontage_index.extend(exposure_index)\n",
    "frontage_index.extend(type_1_index)\n",
    "frontage_index.extend(type_2_index)\n",
    "frontage_index.extend(electrical_index)\n",
    "missing_list = list(set(frontage_index))\n",
    "train = train.drop(train.index[missing_list])"
   ]
  },
  {
   "cell_type": "code",
   "execution_count": 7,
   "id": "b15ec38d",
   "metadata": {
    "scrolled": true
   },
   "outputs": [
    {
     "name": "stdout",
     "output_type": "stream",
     "text": [
      "<class 'pandas.core.frame.DataFrame'>\n",
      "Int64Index: 1094 entries, 0 to 1378\n",
      "Data columns (total 75 columns):\n",
      " #   Column         Non-Null Count  Dtype  \n",
      "---  ------         --------------  -----  \n",
      " 0   MSSubClass     1094 non-null   int64  \n",
      " 1   MSZoning       1094 non-null   object \n",
      " 2   LotFrontage    1094 non-null   float64\n",
      " 3   LotArea        1094 non-null   int64  \n",
      " 4   Street         1094 non-null   object \n",
      " 5   LotShape       1094 non-null   object \n",
      " 6   LandContour    1094 non-null   object \n",
      " 7   Utilities      1094 non-null   object \n",
      " 8   LotConfig      1094 non-null   object \n",
      " 9   LandSlope      1094 non-null   object \n",
      " 10  Neighborhood   1094 non-null   object \n",
      " 11  Condition1     1094 non-null   object \n",
      " 12  Condition2     1094 non-null   object \n",
      " 13  BldgType       1094 non-null   object \n",
      " 14  HouseStyle     1094 non-null   object \n",
      " 15  OverallQual    1094 non-null   int64  \n",
      " 16  OverallCond    1094 non-null   int64  \n",
      " 17  YearBuilt      1094 non-null   int64  \n",
      " 18  YearRemodAdd   1094 non-null   int64  \n",
      " 19  RoofStyle      1094 non-null   object \n",
      " 20  RoofMatl       1094 non-null   object \n",
      " 21  Exterior1st    1094 non-null   object \n",
      " 22  Exterior2nd    1094 non-null   object \n",
      " 23  MasVnrType     1094 non-null   object \n",
      " 24  MasVnrArea     1094 non-null   float64\n",
      " 25  ExterQual      1094 non-null   object \n",
      " 26  ExterCond      1094 non-null   object \n",
      " 27  Foundation     1094 non-null   object \n",
      " 28  BsmtQual       1094 non-null   object \n",
      " 29  BsmtCond       1094 non-null   object \n",
      " 30  BsmtExposure   1094 non-null   object \n",
      " 31  BsmtFinType1   1094 non-null   object \n",
      " 32  BsmtFinSF1     1094 non-null   int64  \n",
      " 33  BsmtFinType2   1094 non-null   object \n",
      " 34  BsmtFinSF2     1094 non-null   int64  \n",
      " 35  BsmtUnfSF      1094 non-null   int64  \n",
      " 36  TotalBsmtSF    1094 non-null   int64  \n",
      " 37  Heating        1094 non-null   object \n",
      " 38  HeatingQC      1094 non-null   object \n",
      " 39  CentralAir     1094 non-null   object \n",
      " 40  Electrical     1094 non-null   object \n",
      " 41  1stFlrSF       1094 non-null   int64  \n",
      " 42  2ndFlrSF       1094 non-null   int64  \n",
      " 43  LowQualFinSF   1094 non-null   int64  \n",
      " 44  GrLivArea      1094 non-null   int64  \n",
      " 45  BsmtFullBath   1094 non-null   int64  \n",
      " 46  BsmtHalfBath   1094 non-null   int64  \n",
      " 47  FullBath       1094 non-null   int64  \n",
      " 48  HalfBath       1094 non-null   int64  \n",
      " 49  BedroomAbvGr   1094 non-null   int64  \n",
      " 50  KitchenAbvGr   1094 non-null   int64  \n",
      " 51  KitchenQual    1094 non-null   object \n",
      " 52  TotRmsAbvGrd   1094 non-null   int64  \n",
      " 53  Functional     1094 non-null   object \n",
      " 54  Fireplaces     1094 non-null   int64  \n",
      " 55  GarageType     1094 non-null   object \n",
      " 56  GarageYrBlt    1094 non-null   int64  \n",
      " 57  GarageFinish   1094 non-null   object \n",
      " 58  GarageCars     1094 non-null   int64  \n",
      " 59  GarageArea     1094 non-null   int64  \n",
      " 60  GarageQual     1094 non-null   object \n",
      " 61  GarageCond     1094 non-null   object \n",
      " 62  PavedDrive     1094 non-null   object \n",
      " 63  WoodDeckSF     1094 non-null   int64  \n",
      " 64  OpenPorchSF    1094 non-null   int64  \n",
      " 65  EnclosedPorch  1094 non-null   int64  \n",
      " 66  3SsnPorch      1094 non-null   int64  \n",
      " 67  ScreenPorch    1094 non-null   int64  \n",
      " 68  PoolArea       1094 non-null   int64  \n",
      " 69  MiscVal        1094 non-null   int64  \n",
      " 70  MoSold         1094 non-null   int64  \n",
      " 71  YrSold         1094 non-null   int64  \n",
      " 72  SaleType       1094 non-null   object \n",
      " 73  SaleCondition  1094 non-null   object \n",
      " 74  SalePrice      1094 non-null   int64  \n",
      "dtypes: float64(2), int64(35), object(38)\n",
      "memory usage: 649.6+ KB\n"
     ]
    }
   ],
   "source": [
    "train.info()"
   ]
  },
  {
   "cell_type": "code",
   "execution_count": 8,
   "id": "1d805ec9",
   "metadata": {},
   "outputs": [
    {
     "name": "stdout",
     "output_type": "stream",
     "text": [
      "['RL' 'RM' 'C (all)' 'FV' 'RH']\n"
     ]
    }
   ],
   "source": [
    "#Assessing categorical features\n",
    "print(train['MSZoning'].unique())"
   ]
  },
  {
   "cell_type": "code",
   "execution_count": 9,
   "id": "813225c6",
   "metadata": {},
   "outputs": [
    {
     "name": "stdout",
     "output_type": "stream",
     "text": [
      "['Pave' 'Grvl']\n"
     ]
    }
   ],
   "source": [
    "print(train['Street'].unique())"
   ]
  },
  {
   "cell_type": "code",
   "execution_count": 10,
   "id": "5f81828e",
   "metadata": {},
   "outputs": [
    {
     "name": "stdout",
     "output_type": "stream",
     "text": [
      "['Reg' 'IR1' 'IR2' 'IR3']\n"
     ]
    }
   ],
   "source": [
    "print(train['LotShape'].unique())"
   ]
  },
  {
   "cell_type": "code",
   "execution_count": 11,
   "id": "60a53d8e",
   "metadata": {},
   "outputs": [
    {
     "name": "stdout",
     "output_type": "stream",
     "text": [
      "['Lvl' 'Bnk' 'Low' 'HLS']\n"
     ]
    }
   ],
   "source": [
    "print(train['LandContour'].unique())"
   ]
  },
  {
   "cell_type": "code",
   "execution_count": 12,
   "id": "5d0c3f9e",
   "metadata": {},
   "outputs": [
    {
     "name": "stdout",
     "output_type": "stream",
     "text": [
      "['AllPub']\n"
     ]
    }
   ],
   "source": [
    "print(train['Utilities'].unique())"
   ]
  },
  {
   "cell_type": "code",
   "execution_count": 13,
   "id": "dbdae383",
   "metadata": {},
   "outputs": [],
   "source": [
    "train.drop(['Utilities'],axis=1,inplace=True)"
   ]
  },
  {
   "cell_type": "code",
   "execution_count": 14,
   "id": "36802563",
   "metadata": {},
   "outputs": [
    {
     "name": "stdout",
     "output_type": "stream",
     "text": [
      "['Inside' 'FR2' 'Corner' 'CulDSac' 'FR3']\n"
     ]
    }
   ],
   "source": [
    "print(train['LotConfig'].unique())"
   ]
  },
  {
   "cell_type": "code",
   "execution_count": 15,
   "id": "f4dca97c",
   "metadata": {},
   "outputs": [
    {
     "name": "stdout",
     "output_type": "stream",
     "text": [
      "['Gtl' 'Mod' 'Sev']\n"
     ]
    }
   ],
   "source": [
    "print(train['LandSlope'].unique())"
   ]
  },
  {
   "cell_type": "code",
   "execution_count": 16,
   "id": "332b6663",
   "metadata": {},
   "outputs": [
    {
     "name": "stdout",
     "output_type": "stream",
     "text": [
      "['CollgCr' 'Veenker' 'Crawfor' 'NoRidge' 'Mitchel' 'Somerst' 'OldTown'\n",
      " 'BrkSide' 'Sawyer' 'NridgHt' 'SawyerW' 'NAmes' 'IDOTRR' 'MeadowV'\n",
      " 'Timber' 'StoneBr' 'ClearCr' 'Gilbert' 'Edwards' 'NWAmes' 'NPkVill'\n",
      " 'Blmngtn' 'BrDale' 'SWISU' 'Blueste']\n"
     ]
    }
   ],
   "source": [
    "print(train['Neighborhood'].unique())"
   ]
  },
  {
   "cell_type": "code",
   "execution_count": 17,
   "id": "b4f9a695",
   "metadata": {},
   "outputs": [
    {
     "name": "stdout",
     "output_type": "stream",
     "text": [
      "['Norm' 'Feedr' 'Artery' 'RRAe' 'RRNn' 'RRAn' 'PosN' 'PosA' 'RRNe']\n"
     ]
    }
   ],
   "source": [
    "print(train['Condition1'].unique())"
   ]
  },
  {
   "cell_type": "code",
   "execution_count": 18,
   "id": "06ddb43e",
   "metadata": {},
   "outputs": [
    {
     "name": "stdout",
     "output_type": "stream",
     "text": [
      "['Norm' 'Artery' 'RRNn' 'Feedr' 'PosN' 'PosA']\n"
     ]
    }
   ],
   "source": [
    "print(train['Condition2'].unique())"
   ]
  },
  {
   "cell_type": "code",
   "execution_count": 19,
   "id": "1553be6d",
   "metadata": {},
   "outputs": [
    {
     "name": "stdout",
     "output_type": "stream",
     "text": [
      "['1Fam' '2fmCon' 'TwnhsE' 'Duplex' 'Twnhs']\n"
     ]
    }
   ],
   "source": [
    "print(train['BldgType'].unique())"
   ]
  },
  {
   "cell_type": "code",
   "execution_count": 20,
   "id": "f64045ee",
   "metadata": {},
   "outputs": [
    {
     "name": "stdout",
     "output_type": "stream",
     "text": [
      "['2Story' '1Story' '1.5Fin' '1.5Unf' 'SLvl' '2.5Unf' '2.5Fin' 'SFoyer']\n"
     ]
    }
   ],
   "source": [
    "print(train['HouseStyle'].unique())"
   ]
  },
  {
   "cell_type": "code",
   "execution_count": 21,
   "id": "44cdca58",
   "metadata": {},
   "outputs": [
    {
     "name": "stdout",
     "output_type": "stream",
     "text": [
      "['Gable' 'Hip' 'Gambrel' 'Mansard' 'Flat']\n"
     ]
    }
   ],
   "source": [
    "print(train['RoofStyle'].unique())"
   ]
  },
  {
   "cell_type": "code",
   "execution_count": 22,
   "id": "a506128d",
   "metadata": {},
   "outputs": [
    {
     "name": "stdout",
     "output_type": "stream",
     "text": [
      "['CompShg' 'WdShngl' 'Membran' 'WdShake' 'Tar&Grv' 'Roll' 'ClyTile']\n"
     ]
    }
   ],
   "source": [
    "print(train['RoofMatl'].unique())"
   ]
  },
  {
   "cell_type": "code",
   "execution_count": 23,
   "id": "46925e80",
   "metadata": {},
   "outputs": [
    {
     "name": "stdout",
     "output_type": "stream",
     "text": [
      "['VinylSd' 'MetalSd' 'Wd Sdng' 'BrkFace' 'HdBoard' 'WdShing' 'CemntBd'\n",
      " 'Stucco' 'Plywood' 'AsbShng' 'BrkComm' 'Stone' 'ImStucc' 'CBlock']\n"
     ]
    }
   ],
   "source": [
    "print(train['Exterior1st'].unique())"
   ]
  },
  {
   "cell_type": "code",
   "execution_count": 24,
   "id": "6e79419b",
   "metadata": {},
   "outputs": [
    {
     "name": "stdout",
     "output_type": "stream",
     "text": [
      "['VinylSd' 'MetalSd' 'Wd Shng' 'HdBoard' 'Wd Sdng' 'Plywood' 'CmentBd'\n",
      " 'BrkFace' 'Stucco' 'AsbShng' 'Brk Cmn' 'ImStucc' 'AsphShn' 'Other'\n",
      " 'Stone' 'CBlock']\n"
     ]
    }
   ],
   "source": [
    "print(train['Exterior2nd'].unique())"
   ]
  },
  {
   "cell_type": "code",
   "execution_count": 25,
   "id": "a8fb6058",
   "metadata": {},
   "outputs": [
    {
     "name": "stdout",
     "output_type": "stream",
     "text": [
      "['BrkFace' 'None' 'Stone' 'BrkCmn']\n"
     ]
    }
   ],
   "source": [
    "print(train['MasVnrType'].unique())"
   ]
  },
  {
   "cell_type": "code",
   "execution_count": 26,
   "id": "1e5e0fc8",
   "metadata": {},
   "outputs": [
    {
     "name": "stdout",
     "output_type": "stream",
     "text": [
      "['Gd' 'TA' 'Ex' 'Fa']\n"
     ]
    }
   ],
   "source": [
    "print(train['ExterQual'].unique())"
   ]
  },
  {
   "cell_type": "code",
   "execution_count": 27,
   "id": "ecd5973d",
   "metadata": {},
   "outputs": [
    {
     "name": "stdout",
     "output_type": "stream",
     "text": [
      "['TA' 'Fa' 'Gd' 'Ex']\n"
     ]
    }
   ],
   "source": [
    "print(train['ExterCond'].unique())"
   ]
  },
  {
   "cell_type": "code",
   "execution_count": 28,
   "id": "e4dc298d",
   "metadata": {},
   "outputs": [
    {
     "name": "stdout",
     "output_type": "stream",
     "text": [
      "['PConc' 'CBlock' 'BrkTil' 'Wood' 'Stone']\n"
     ]
    }
   ],
   "source": [
    "print(train['Foundation'].unique())"
   ]
  },
  {
   "cell_type": "code",
   "execution_count": 29,
   "id": "fda0ae1c",
   "metadata": {},
   "outputs": [
    {
     "name": "stdout",
     "output_type": "stream",
     "text": [
      "['Gd' 'TA' 'Ex' 'Fa']\n"
     ]
    }
   ],
   "source": [
    "print(train['BsmtQual'].unique())"
   ]
  },
  {
   "cell_type": "code",
   "execution_count": 30,
   "id": "a6695f61",
   "metadata": {},
   "outputs": [
    {
     "name": "stdout",
     "output_type": "stream",
     "text": [
      "['TA' 'Gd' 'Fa' 'Po']\n"
     ]
    }
   ],
   "source": [
    "print(train['BsmtCond'].unique())"
   ]
  },
  {
   "cell_type": "code",
   "execution_count": 31,
   "id": "a9ccdf01",
   "metadata": {},
   "outputs": [
    {
     "name": "stdout",
     "output_type": "stream",
     "text": [
      "['No' 'Gd' 'Mn' 'Av']\n"
     ]
    }
   ],
   "source": [
    "print(train['BsmtExposure'].unique())"
   ]
  },
  {
   "cell_type": "code",
   "execution_count": 32,
   "id": "b36f513b",
   "metadata": {},
   "outputs": [
    {
     "name": "stdout",
     "output_type": "stream",
     "text": [
      "['GLQ' 'ALQ' 'Unf' 'Rec' 'LwQ' 'BLQ']\n"
     ]
    }
   ],
   "source": [
    "print(train['BsmtFinType1'].unique())"
   ]
  },
  {
   "cell_type": "code",
   "execution_count": 33,
   "id": "f35d4b7b",
   "metadata": {},
   "outputs": [
    {
     "name": "stdout",
     "output_type": "stream",
     "text": [
      "['Unf' 'Rec' 'BLQ' 'GLQ' 'LwQ' 'ALQ']\n"
     ]
    }
   ],
   "source": [
    "print(train['BsmtFinType2'].unique())"
   ]
  },
  {
   "cell_type": "code",
   "execution_count": 34,
   "id": "385e3a40",
   "metadata": {},
   "outputs": [
    {
     "name": "stdout",
     "output_type": "stream",
     "text": [
      "['GasA' 'GasW' 'Grav' 'OthW']\n"
     ]
    }
   ],
   "source": [
    "print(train['Heating'].unique())"
   ]
  },
  {
   "cell_type": "code",
   "execution_count": 35,
   "id": "07e991e2",
   "metadata": {},
   "outputs": [
    {
     "name": "stdout",
     "output_type": "stream",
     "text": [
      "['Ex' 'Gd' 'TA' 'Fa' 'Po']\n"
     ]
    }
   ],
   "source": [
    "print(train['HeatingQC'].unique())"
   ]
  },
  {
   "cell_type": "code",
   "execution_count": 36,
   "id": "50f09efc",
   "metadata": {},
   "outputs": [
    {
     "name": "stdout",
     "output_type": "stream",
     "text": [
      "['Y' 'N']\n"
     ]
    }
   ],
   "source": [
    "print(train['CentralAir'].unique())"
   ]
  },
  {
   "cell_type": "code",
   "execution_count": 37,
   "id": "f51cebe9",
   "metadata": {},
   "outputs": [
    {
     "name": "stdout",
     "output_type": "stream",
     "text": [
      "['SBrkr' 'FuseF' 'FuseA' 'FuseP' 'Mix']\n"
     ]
    }
   ],
   "source": [
    "print(train['Electrical'].unique())"
   ]
  },
  {
   "cell_type": "code",
   "execution_count": 38,
   "id": "88b0062e",
   "metadata": {},
   "outputs": [
    {
     "name": "stdout",
     "output_type": "stream",
     "text": [
      "['Gd' 'TA' 'Ex' 'Fa']\n"
     ]
    }
   ],
   "source": [
    "print(train['KitchenQual'].unique())"
   ]
  },
  {
   "cell_type": "code",
   "execution_count": 39,
   "id": "5e118478",
   "metadata": {},
   "outputs": [
    {
     "name": "stdout",
     "output_type": "stream",
     "text": [
      "['Typ' 'Min1' 'Maj1' 'Min2' 'Mod' 'Maj2']\n"
     ]
    }
   ],
   "source": [
    "print(train['Functional'].unique())"
   ]
  },
  {
   "cell_type": "code",
   "execution_count": 40,
   "id": "963ad6ef",
   "metadata": {},
   "outputs": [
    {
     "name": "stdout",
     "output_type": "stream",
     "text": [
      "['Attchd' 'Detchd' 'BuiltIn' 'CarPort' 'Basment' '2Types']\n"
     ]
    }
   ],
   "source": [
    "print(train['GarageType'].unique())"
   ]
  },
  {
   "cell_type": "code",
   "execution_count": 41,
   "id": "a7ff0ba7",
   "metadata": {},
   "outputs": [
    {
     "name": "stdout",
     "output_type": "stream",
     "text": [
      "['RFn' 'Unf' 'Fin']\n"
     ]
    }
   ],
   "source": [
    "print(train['GarageFinish'].unique())"
   ]
  },
  {
   "cell_type": "code",
   "execution_count": 42,
   "id": "9b7e428e",
   "metadata": {},
   "outputs": [
    {
     "name": "stdout",
     "output_type": "stream",
     "text": [
      "['TA' 'Fa' 'Gd' 'Ex' 'Po']\n"
     ]
    }
   ],
   "source": [
    "print(train['GarageQual'].unique())"
   ]
  },
  {
   "cell_type": "code",
   "execution_count": 43,
   "id": "974368c9",
   "metadata": {},
   "outputs": [
    {
     "name": "stdout",
     "output_type": "stream",
     "text": [
      "['TA' 'Fa' 'Gd' 'Po' 'Ex']\n"
     ]
    }
   ],
   "source": [
    "print(train['GarageCond'].unique())"
   ]
  },
  {
   "cell_type": "code",
   "execution_count": 44,
   "id": "278ba5d1",
   "metadata": {},
   "outputs": [
    {
     "name": "stdout",
     "output_type": "stream",
     "text": [
      "['Y' 'N' 'P']\n"
     ]
    }
   ],
   "source": [
    "print(train['PavedDrive'].unique())"
   ]
  },
  {
   "cell_type": "code",
   "execution_count": 45,
   "id": "ef97155e",
   "metadata": {},
   "outputs": [
    {
     "name": "stdout",
     "output_type": "stream",
     "text": [
      "['WD' 'New' 'COD' 'ConLI' 'CWD' 'ConLw' 'Con' 'ConLD' 'Oth']\n"
     ]
    }
   ],
   "source": [
    "print(train['SaleType'].unique())"
   ]
  },
  {
   "cell_type": "code",
   "execution_count": 46,
   "id": "48cd34d0",
   "metadata": {},
   "outputs": [
    {
     "name": "stdout",
     "output_type": "stream",
     "text": [
      "['Normal' 'Abnorml' 'Partial' 'Family' 'Alloca' 'AdjLand']\n"
     ]
    }
   ],
   "source": [
    "print(train['SaleCondition'].unique())"
   ]
  },
  {
   "cell_type": "code",
   "execution_count": 47,
   "id": "c8742f76",
   "metadata": {},
   "outputs": [],
   "source": [
    "data = train.drop(['SalePrice'],axis=1)"
   ]
  },
  {
   "cell_type": "code",
   "execution_count": 48,
   "id": "3ca7d947",
   "metadata": {},
   "outputs": [],
   "source": [
    "# Feature Transformation\n",
    "from sklearn.preprocessing import LabelEncoder\n",
    "encoder = LabelEncoder()\n",
    "train['MSZoning'] = encoder.fit_transform(train['MSZoning'])"
   ]
  },
  {
   "cell_type": "code",
   "execution_count": 49,
   "id": "12fadc6e",
   "metadata": {},
   "outputs": [],
   "source": [
    "encoder = LabelEncoder()\n",
    "train['Street'] = encoder.fit_transform(train['Street'])"
   ]
  },
  {
   "cell_type": "code",
   "execution_count": 50,
   "id": "e27eb1a8",
   "metadata": {},
   "outputs": [],
   "source": [
    "encoder = LabelEncoder()\n",
    "train['LotShape'] = encoder.fit_transform(train['LotShape'])"
   ]
  },
  {
   "cell_type": "code",
   "execution_count": 51,
   "id": "53ab4b1b",
   "metadata": {},
   "outputs": [],
   "source": [
    "encoder = LabelEncoder()\n",
    "train['LandContour'] = encoder.fit_transform(train['LandContour'])"
   ]
  },
  {
   "cell_type": "code",
   "execution_count": 52,
   "id": "89b1fc4d",
   "metadata": {},
   "outputs": [],
   "source": [
    "encoder = LabelEncoder()\n",
    "train['LotConfig'] = encoder.fit_transform(train['LotConfig'])"
   ]
  },
  {
   "cell_type": "code",
   "execution_count": 53,
   "id": "2cbc2f3f",
   "metadata": {},
   "outputs": [],
   "source": [
    "encoder = LabelEncoder()\n",
    "train['LandSlope'] = encoder.fit_transform(train['LandSlope'])"
   ]
  },
  {
   "cell_type": "code",
   "execution_count": 54,
   "id": "71d505a9",
   "metadata": {},
   "outputs": [],
   "source": [
    "encoder = LabelEncoder()\n",
    "train['Neighborhood'] = encoder.fit_transform(train['Neighborhood'])"
   ]
  },
  {
   "cell_type": "code",
   "execution_count": 55,
   "id": "3bbbbf4c",
   "metadata": {},
   "outputs": [],
   "source": [
    "encoder = LabelEncoder()\n",
    "train['Condition1'] = encoder.fit_transform(train['Condition1'])"
   ]
  },
  {
   "cell_type": "code",
   "execution_count": 56,
   "id": "cf104253",
   "metadata": {},
   "outputs": [],
   "source": [
    "encoder = LabelEncoder()\n",
    "train['Condition2'] = encoder.fit_transform(train['Condition2'])"
   ]
  },
  {
   "cell_type": "code",
   "execution_count": 57,
   "id": "f79bfa57",
   "metadata": {},
   "outputs": [],
   "source": [
    "encoder = LabelEncoder()\n",
    "train['BldgType'] = encoder.fit_transform(train['BldgType'])"
   ]
  },
  {
   "cell_type": "code",
   "execution_count": 58,
   "id": "d3c70665",
   "metadata": {},
   "outputs": [],
   "source": [
    "encoder = LabelEncoder()\n",
    "train['HouseStyle'] = encoder.fit_transform(train['HouseStyle'])"
   ]
  },
  {
   "cell_type": "code",
   "execution_count": 59,
   "id": "5e8f07e3",
   "metadata": {},
   "outputs": [],
   "source": [
    "encoder = LabelEncoder()\n",
    "train['RoofStyle'] = encoder.fit_transform(train['RoofStyle'])"
   ]
  },
  {
   "cell_type": "code",
   "execution_count": 60,
   "id": "b41bb68f",
   "metadata": {},
   "outputs": [],
   "source": [
    "encoder = LabelEncoder()\n",
    "train['RoofMatl'] = encoder.fit_transform(train['RoofMatl'])"
   ]
  },
  {
   "cell_type": "code",
   "execution_count": 61,
   "id": "42c16fd1",
   "metadata": {},
   "outputs": [],
   "source": [
    "encoder = LabelEncoder()\n",
    "train['Exterior1st'] = encoder.fit_transform(train['Exterior1st'])"
   ]
  },
  {
   "cell_type": "code",
   "execution_count": 62,
   "id": "ce085b8e",
   "metadata": {},
   "outputs": [],
   "source": [
    "encoder = LabelEncoder()\n",
    "train['Exterior2nd'] = encoder.fit_transform(train['Exterior2nd'])"
   ]
  },
  {
   "cell_type": "code",
   "execution_count": 63,
   "id": "5911a3b5",
   "metadata": {},
   "outputs": [],
   "source": [
    "encoder = LabelEncoder()\n",
    "train['MasVnrType'] = encoder.fit_transform(train['MasVnrType'])"
   ]
  },
  {
   "cell_type": "code",
   "execution_count": 64,
   "id": "f984f6b8",
   "metadata": {},
   "outputs": [],
   "source": [
    "encoder = LabelEncoder()\n",
    "train['ExterQual'] = encoder.fit_transform(train['ExterQual'])"
   ]
  },
  {
   "cell_type": "code",
   "execution_count": 65,
   "id": "89dd89d7",
   "metadata": {},
   "outputs": [],
   "source": [
    "encoder = LabelEncoder()\n",
    "train['ExterCond'] = encoder.fit_transform(train['ExterCond'])"
   ]
  },
  {
   "cell_type": "code",
   "execution_count": 66,
   "id": "22e50f3f",
   "metadata": {},
   "outputs": [],
   "source": [
    "encoder = LabelEncoder()\n",
    "train['Foundation'] = encoder.fit_transform(train['Foundation'])"
   ]
  },
  {
   "cell_type": "code",
   "execution_count": 67,
   "id": "e539e93e",
   "metadata": {},
   "outputs": [],
   "source": [
    "encoder = LabelEncoder()\n",
    "train['BsmtQual'] = encoder.fit_transform(train['BsmtQual'])"
   ]
  },
  {
   "cell_type": "code",
   "execution_count": 68,
   "id": "fae4116b",
   "metadata": {},
   "outputs": [],
   "source": [
    "encoder = LabelEncoder()\n",
    "train['BsmtCond'] = encoder.fit_transform(train['BsmtCond'])"
   ]
  },
  {
   "cell_type": "code",
   "execution_count": 69,
   "id": "3325084d",
   "metadata": {},
   "outputs": [],
   "source": [
    "encoder = LabelEncoder()\n",
    "train['BsmtExposure'] = encoder.fit_transform(train['BsmtExposure'])"
   ]
  },
  {
   "cell_type": "code",
   "execution_count": 70,
   "id": "dad465ef",
   "metadata": {},
   "outputs": [],
   "source": [
    "encoder = LabelEncoder()\n",
    "train['BsmtFinType1'] = encoder.fit_transform(train['BsmtFinType1'])"
   ]
  },
  {
   "cell_type": "code",
   "execution_count": 71,
   "id": "e0406a92",
   "metadata": {},
   "outputs": [],
   "source": [
    "encoder = LabelEncoder()\n",
    "train['BsmtFinType2'] = encoder.fit_transform(train['BsmtFinType2'])"
   ]
  },
  {
   "cell_type": "code",
   "execution_count": 72,
   "id": "f6d627db",
   "metadata": {},
   "outputs": [],
   "source": [
    "encoder = LabelEncoder()\n",
    "train['Heating'] = encoder.fit_transform(train['Heating'])"
   ]
  },
  {
   "cell_type": "code",
   "execution_count": 73,
   "id": "d4a65251",
   "metadata": {},
   "outputs": [],
   "source": [
    "encoder = LabelEncoder()\n",
    "train['HeatingQC'] = encoder.fit_transform(train['HeatingQC'])"
   ]
  },
  {
   "cell_type": "code",
   "execution_count": 74,
   "id": "85d44080",
   "metadata": {},
   "outputs": [],
   "source": [
    "encoder = LabelEncoder()\n",
    "train['CentralAir'] = encoder.fit_transform(train['CentralAir'])"
   ]
  },
  {
   "cell_type": "code",
   "execution_count": 75,
   "id": "585331f4",
   "metadata": {},
   "outputs": [],
   "source": [
    "encoder = LabelEncoder()\n",
    "train['Electrical'] = encoder.fit_transform(train['Electrical'])"
   ]
  },
  {
   "cell_type": "code",
   "execution_count": 76,
   "id": "40a2d7a9",
   "metadata": {},
   "outputs": [],
   "source": [
    "encoder = LabelEncoder()\n",
    "train['KitchenQual'] = encoder.fit_transform(train['KitchenQual'])"
   ]
  },
  {
   "cell_type": "code",
   "execution_count": 77,
   "id": "af38474d",
   "metadata": {},
   "outputs": [],
   "source": [
    "encoder = LabelEncoder()\n",
    "train['Functional'] = encoder.fit_transform(train['Functional'])"
   ]
  },
  {
   "cell_type": "code",
   "execution_count": 78,
   "id": "85b969cc",
   "metadata": {},
   "outputs": [],
   "source": [
    "encoder = LabelEncoder()\n",
    "train['GarageType'] = encoder.fit_transform(train['GarageType'])"
   ]
  },
  {
   "cell_type": "code",
   "execution_count": 79,
   "id": "2f177cf5",
   "metadata": {},
   "outputs": [],
   "source": [
    "encoder = LabelEncoder()\n",
    "train['GarageFinish'] = encoder.fit_transform(train['GarageFinish'])"
   ]
  },
  {
   "cell_type": "code",
   "execution_count": 80,
   "id": "8b029a2a",
   "metadata": {},
   "outputs": [],
   "source": [
    "encoder = LabelEncoder()\n",
    "train['GarageQual'] = encoder.fit_transform(train['GarageQual'])"
   ]
  },
  {
   "cell_type": "code",
   "execution_count": 81,
   "id": "692d0896",
   "metadata": {},
   "outputs": [],
   "source": [
    "encoder = LabelEncoder()\n",
    "train['GarageCond'] = encoder.fit_transform(train['GarageCond'])"
   ]
  },
  {
   "cell_type": "code",
   "execution_count": 82,
   "id": "c38d57a8",
   "metadata": {},
   "outputs": [],
   "source": [
    "encoder = LabelEncoder()\n",
    "train['PavedDrive'] = encoder.fit_transform(train['PavedDrive'])"
   ]
  },
  {
   "cell_type": "code",
   "execution_count": 83,
   "id": "33949948",
   "metadata": {},
   "outputs": [],
   "source": [
    "encoder = LabelEncoder()\n",
    "train['SaleType'] = encoder.fit_transform(train['SaleType'])"
   ]
  },
  {
   "cell_type": "code",
   "execution_count": 84,
   "id": "158e2320",
   "metadata": {},
   "outputs": [],
   "source": [
    "encoder = LabelEncoder()\n",
    "train['SaleCondition'] = encoder.fit_transform(train['SaleCondition'])"
   ]
  },
  {
   "cell_type": "code",
   "execution_count": 85,
   "id": "6e54da4b",
   "metadata": {},
   "outputs": [
    {
     "data": {
      "text/plain": [
       "array([[  7.,   2.,   2., ...,   2.,   2., 548.],\n",
       "       [  6.,   3.,   2., ...,   3.,   2., 460.],\n",
       "       [  7.,   2.,   2., ...,   2.,   2., 608.],\n",
       "       ...,\n",
       "       [  7.,   0.,   3., ...,   2.,   1., 252.],\n",
       "       [  5.,   3.,   3., ...,   2.,   1., 240.],\n",
       "       [  5.,   2.,   3., ...,   3.,   1., 276.]])"
      ]
     },
     "execution_count": 85,
     "metadata": {},
     "output_type": "execute_result"
    }
   ],
   "source": [
    "# Feature Selection\n",
    "from sklearn.feature_selection import SelectKBest\n",
    "from sklearn.feature_selection import f_regression\n",
    "X = train.iloc[:,:-1].values\n",
    "y = train.iloc[:,-1].values\n",
    "fs = SelectKBest(score_func=f_regression, k=10)\n",
    "fs.fit_transform(X,y)"
   ]
  },
  {
   "cell_type": "code",
   "execution_count": 86,
   "id": "59801bc9",
   "metadata": {},
   "outputs": [],
   "source": [
    "feature_names = list(data.columns.values)\n",
    "mask = fs.get_support() #list of booleans\n",
    "new_features = [] # The list of your K best features\n",
    "\n",
    "for bool, feature in zip(mask, feature_names):\n",
    "    if bool:\n",
    "        new_features.append(feature)"
   ]
  },
  {
   "cell_type": "code",
   "execution_count": 87,
   "id": "11c43407",
   "metadata": {},
   "outputs": [
    {
     "data": {
      "text/plain": [
       "['OverallQual',\n",
       " 'ExterQual',\n",
       " 'BsmtQual',\n",
       " 'TotalBsmtSF',\n",
       " '1stFlrSF',\n",
       " 'GrLivArea',\n",
       " 'FullBath',\n",
       " 'KitchenQual',\n",
       " 'GarageCars',\n",
       " 'GarageArea']"
      ]
     },
     "execution_count": 87,
     "metadata": {},
     "output_type": "execute_result"
    }
   ],
   "source": [
    "# Feature Names\n",
    "new_features"
   ]
  },
  {
   "cell_type": "code",
   "execution_count": 88,
   "id": "b905fe51",
   "metadata": {},
   "outputs": [],
   "source": [
    "train = train.filter(['OverallQual', 'ExterQual','BsmtQual','TotalBsmtSF','1stFlrSF','GrLivArea','FullBath','KitchenQual','GarageCars','GarageArea','SalePrice'])"
   ]
  },
  {
   "cell_type": "code",
   "execution_count": 89,
   "id": "8d9e74f4",
   "metadata": {},
   "outputs": [
    {
     "name": "stdout",
     "output_type": "stream",
     "text": [
      "<class 'pandas.core.frame.DataFrame'>\n",
      "Int64Index: 1094 entries, 0 to 1378\n",
      "Data columns (total 11 columns):\n",
      " #   Column       Non-Null Count  Dtype\n",
      "---  ------       --------------  -----\n",
      " 0   OverallQual  1094 non-null   int64\n",
      " 1   ExterQual    1094 non-null   int32\n",
      " 2   BsmtQual     1094 non-null   int32\n",
      " 3   TotalBsmtSF  1094 non-null   int64\n",
      " 4   1stFlrSF     1094 non-null   int64\n",
      " 5   GrLivArea    1094 non-null   int64\n",
      " 6   FullBath     1094 non-null   int64\n",
      " 7   KitchenQual  1094 non-null   int32\n",
      " 8   GarageCars   1094 non-null   int64\n",
      " 9   GarageArea   1094 non-null   int64\n",
      " 10  SalePrice    1094 non-null   int64\n",
      "dtypes: int32(3), int64(8)\n",
      "memory usage: 89.7 KB\n"
     ]
    }
   ],
   "source": [
    "train.info()"
   ]
  },
  {
   "cell_type": "code",
   "execution_count": 90,
   "id": "09abb414",
   "metadata": {},
   "outputs": [
    {
     "data": {
      "text/plain": [
       "<AxesSubplot:title={'center':'Overall Quality Score vs House Price'}, xlabel='Overall Quality', ylabel='Price'>"
      ]
     },
     "execution_count": 90,
     "metadata": {},
     "output_type": "execute_result"
    },
    {
     "data": {
      "image/png": "[encoded data removed]",
      "text/plain": [
       "<Figure size 432x360 with 1 Axes>"
      ]
     },
     "metadata": {
      "needs_background": "light"
     },
     "output_type": "display_data"
    }
   ],
   "source": [
    "overall_quality_data = train.groupby(['OverallQual'])['SalePrice'].mean()\n",
    "overall_quality_data.plot(kind='bar', title='Overall Quality Score vs House Price', ylabel='Price',xlabel='Overall Quality', figsize=(6, 5))"
   ]
  },
  {
   "cell_type": "code",
   "execution_count": 114,
   "id": "2f604bfe",
   "metadata": {},
   "outputs": [
    {
     "data": {
      "text/plain": [
       "<matplotlib.legend.Legend at 0x1a8302ac070>"
      ]
     },
     "execution_count": 114,
     "metadata": {},
     "output_type": "execute_result"
    },
    {
     "data": {
      "image/png": "[encoded data removed]",
      "text/plain": [
       "<Figure size 432x360 with 1 Axes>"
      ]
     },
     "metadata": {
      "needs_background": "light"
     },
     "output_type": "display_data"
    }
   ],
   "source": [
    "exter_quality_data = train.groupby(['ExterQual'])['SalePrice'].mean()\n",
    "exter_quality_data.plot(kind='bar', title='Exterior Material Quality vs House Price', ylabel='Price',xlabel='Exterior Material Quality', color=['r', 'b', 'g' ,'y'], figsize=(6, 5))\n",
    "colors = {'Ex':'red', 'Fa':'blue', 'Gd':'green', 'TA':'yellow'}\n",
    "labels = list(colors.keys())\n",
    "handles = [plt.Rectangle((0,0),1,1, color=colors[label]) for label in labels]\n",
    "plt.legend(handles, labels)"
   ]
  },
  {
   "cell_type": "code",
   "execution_count": 113,
   "id": "7b057544",
   "metadata": {},
   "outputs": [
    {
     "data": {
      "text/plain": [
       "<matplotlib.legend.Legend at 0x1a82eb919a0>"
      ]
     },
     "execution_count": 113,
     "metadata": {},
     "output_type": "execute_result"
    },
    {
     "data": {
      "image/png": "[encoded data removed]",
      "text/plain": [
       "<Figure size 432x360 with 1 Axes>"
      ]
     },
     "metadata": {
      "needs_background": "light"
     },
     "output_type": "display_data"
    }
   ],
   "source": [
    "basement_quality_data = train.groupby(['BsmtQual'])['SalePrice'].mean()\n",
    "basement_quality_data.plot(kind='bar', title='Basement Quality vs House Price', ylabel='Price',xlabel='Basement Quality', color=['r', 'b', 'g' ,'y'], figsize=(6, 5))\n",
    "colors = {'Ex':'red', 'Fa':'blue', 'Gd':'green', 'TA':'yellow'}\n",
    "labels = list(colors.keys())\n",
    "handles = [plt.Rectangle((0,0),1,1, color=colors[label]) for label in labels]\n",
    "plt.legend(handles, labels)"
   ]
  },
  {
   "cell_type": "code",
   "execution_count": 93,
   "id": "25a73c33",
   "metadata": {},
   "outputs": [
    {
     "data": {
      "image/png": "[encoded data removed]",
      "text/plain": [
       "<Figure size 432x288 with 1 Axes>"
      ]
     },
     "metadata": {
      "needs_background": "light"
     },
     "output_type": "display_data"
    }
   ],
   "source": [
    "plt.scatter(train['TotalBsmtSF'].values, train['SalePrice'].values)\n",
    "plt.show()"
   ]
  },
  {
   "cell_type": "code",
   "execution_count": 94,
   "id": "383c112d",
   "metadata": {},
   "outputs": [
    {
     "data": {
      "image/png": "[encoded data removed]",
      "text/plain": [
       "<Figure size 432x288 with 1 Axes>"
      ]
     },
     "metadata": {
      "needs_background": "light"
     },
     "output_type": "display_data"
    }
   ],
   "source": [
    "plt.scatter(train['1stFlrSF'].values, train['SalePrice'].values)\n",
    "plt.show()"
   ]
  },
  {
   "cell_type": "code",
   "execution_count": 95,
   "id": "2e6d2471",
   "metadata": {},
   "outputs": [
    {
     "data": {
      "image/png": "[encoded data removed]",
      "text/plain": [
       "<Figure size 432x288 with 1 Axes>"
      ]
     },
     "metadata": {
      "needs_background": "light"
     },
     "output_type": "display_data"
    }
   ],
   "source": [
    "plt.scatter(train['GrLivArea'].values, train['SalePrice'].values)\n",
    "plt.show()"
   ]
  },
  {
   "cell_type": "code",
   "execution_count": 96,
   "id": "b36a8d28",
   "metadata": {},
   "outputs": [
    {
     "data": {
      "text/plain": [
       "<AxesSubplot:title={'center':'Full Bathrooms vs House Price'}, xlabel='Full Bathroom', ylabel='Price'>"
      ]
     },
     "execution_count": 96,
     "metadata": {},
     "output_type": "execute_result"
    },
    {
     "data": {
      "image/png": "[encoded data removed]",
      "text/plain": [
       "<Figure size 432x360 with 1 Axes>"
      ]
     },
     "metadata": {
      "needs_background": "light"
     },
     "output_type": "display_data"
    }
   ],
   "source": [
    "full_bathroom_data = train.groupby(['FullBath'])['SalePrice'].mean()\n",
    "full_bathroom_data.plot(kind='bar', title='Full Bathrooms vs House Price', ylabel='Price',xlabel='Full Bathroom', figsize=(6, 5))"
   ]
  },
  {
   "cell_type": "code",
   "execution_count": 115,
   "id": "624a699d",
   "metadata": {},
   "outputs": [
    {
     "data": {
      "text/plain": [
       "<matplotlib.legend.Legend at 0x1a82fff4940>"
      ]
     },
     "execution_count": 115,
     "metadata": {},
     "output_type": "execute_result"
    },
    {
     "data": {
      "image/png": "[encoded data removed]",
      "text/plain": [
       "<Figure size 432x360 with 1 Axes>"
      ]
     },
     "metadata": {
      "needs_background": "light"
     },
     "output_type": "display_data"
    }
   ],
   "source": [
    "kitchen_quality_data = train.groupby(['KitchenQual'])['SalePrice'].mean()\n",
    "kitchen_quality_data.plot(kind='bar', title='Kitchen Quality vs House Price', ylabel='Price',xlabel='Kitchen Quality', color=['r', 'b', 'g' ,'y'], figsize=(6, 5))\n",
    "labels = list(colors.keys())\n",
    "handles = [plt.Rectangle((0,0),1,1, color=colors[label]) for label in labels]\n",
    "plt.legend(handles, labels)"
   ]
  },
  {
   "cell_type": "code",
   "execution_count": 116,
   "id": "001d4295",
   "metadata": {},
   "outputs": [
    {
     "data": {
      "text/plain": [
       "<AxesSubplot:title={'center':'Garage Cars vs House Price'}, xlabel='Garage Cars', ylabel='Price'>"
      ]
     },
     "execution_count": 116,
     "metadata": {},
     "output_type": "execute_result"
    },
    {
     "data": {
      "image/png": "[encoded data removed]",
      "text/plain": [
       "<Figure size 432x360 with 1 Axes>"
      ]
     },
     "metadata": {
      "needs_background": "light"
     },
     "output_type": "display_data"
    }
   ],
   "source": [
    "garage_cars_data = train.groupby(['GarageCars'])['SalePrice'].mean()\n",
    "garage_cars_data.plot(kind='bar', title='Garage Cars vs House Price', ylabel='Price',xlabel='Garage Cars', figsize=(6, 5))"
   ]
  },
  {
   "cell_type": "code",
   "execution_count": 117,
   "id": "ab8182bc",
   "metadata": {},
   "outputs": [
    {
     "data": {
      "image/png": "[encoded data removed]",
      "text/plain": [
       "<Figure size 432x288 with 1 Axes>"
      ]
     },
     "metadata": {
      "needs_background": "light"
     },
     "output_type": "display_data"
    }
   ],
   "source": [
    "plt.scatter(train['GarageArea'].values, train['SalePrice'].values)\n",
    "plt.show()"
   ]
  },
  {
   "cell_type": "code",
   "execution_count": 118,
   "id": "79b1f97e",
   "metadata": {},
   "outputs": [
    {
     "data": {
      "image/png": "[encoded data removed]",
      "text/plain": [
       "<Figure size 432x288 with 1 Axes>"
      ]
     },
     "metadata": {
      "needs_background": "light"
     },
     "output_type": "display_data"
    },
    {
     "data": {
      "image/png": "[encoded data removed]",
      "text/plain": [
       "<Figure size 432x288 with 1 Axes>"
      ]
     },
     "metadata": {
      "needs_background": "light"
     },
     "output_type": "display_data"
    },
    {
     "data": {
      "image/png": "[encoded data removed]",
      "text/plain": [
       "<Figure size 432x288 with 1 Axes>"
      ]
     },
     "metadata": {
      "needs_background": "light"
     },
     "output_type": "display_data"
    },
    {
     "data": {
      "image/png": "[encoded data removed]",
      "text/plain": [
       "<Figure size 432x288 with 1 Axes>"
      ]
     },
     "metadata": {
      "needs_background": "light"
     },
     "output_type": "display_data"
    }
   ],
   "source": [
    "# Detecting and Removing Outliers\n",
    "numerical_features = ['TotalBsmtSF','1stFlrSF','GrLivArea','GarageArea']\n",
    "for column in numerical_features:\n",
    "    sb.boxplot(train[column])\n",
    "    plt.show()"
   ]
  },
  {
   "cell_type": "code",
   "execution_count": 119,
   "id": "5bc953bd",
   "metadata": {},
   "outputs": [],
   "source": [
    "for column in numerical_features:\n",
    "    Q1=train[column].quantile(0.25)\n",
    "    Q3=train[column].quantile(0.75)\n",
    "    IQR=Q3-Q1\n",
    "    upper=Q3+ 1.5*IQR\n",
    "    lower=Q1- 1.5*IQR\n",
    "    train=train[(train[column]>lower) & (train[column]<upper)]    "
   ]
  },
  {
   "cell_type": "code",
   "execution_count": 120,
   "id": "6361f844",
   "metadata": {},
   "outputs": [
    {
     "data": {
      "image/png": "[encoded data removed]",
      "text/plain": [
       "<Figure size 432x288 with 1 Axes>"
      ]
     },
     "metadata": {
      "needs_background": "light"
     },
     "output_type": "display_data"
    },
    {
     "data": {
      "image/png": "[encoded data removed]",
      "text/plain": [
       "<Figure size 432x288 with 1 Axes>"
      ]
     },
     "metadata": {
      "needs_background": "light"
     },
     "output_type": "display_data"
    },
    {
     "data": {
      "image/png": "[encoded data removed]",
      "text/plain": [
       "<Figure size 432x288 with 1 Axes>"
      ]
     },
     "metadata": {
      "needs_background": "light"
     },
     "output_type": "display_data"
    },
    {
     "data": {
      "image/png": "[encoded data removed]",
      "text/plain": [
       "<Figure size 432x288 with 1 Axes>"
      ]
     },
     "metadata": {
      "needs_background": "light"
     },
     "output_type": "display_data"
    }
   ],
   "source": [
    "for column in numerical_features:\n",
    "    sb.boxplot(train[column])\n",
    "    plt.show()"
   ]
  },
  {
   "cell_type": "markdown",
   "id": "485da363",
   "metadata": {},
   "source": [
    "# Splitting the data into train and test split"
   ]
  },
  {
   "cell_type": "code",
   "execution_count": 121,
   "id": "7d81edd9",
   "metadata": {},
   "outputs": [],
   "source": [
    "target = train['SalePrice']"
   ]
  },
  {
   "cell_type": "code",
   "execution_count": 122,
   "id": "ef5c8151",
   "metadata": {},
   "outputs": [],
   "source": [
    "train.drop(['SalePrice'],axis=1,inplace=True)"
   ]
  },
  {
   "cell_type": "code",
   "execution_count": 123,
   "id": "bbdbba15",
   "metadata": {},
   "outputs": [],
   "source": [
    "from sklearn.model_selection import train_test_split\n",
    "X_train, X_test, y_train, y_test = train_test_split(train,target,test_size = 0.30,random_state = 42)"
   ]
  },
  {
   "cell_type": "markdown",
   "id": "b2e9279c",
   "metadata": {},
   "source": [
    "# Data Modelling"
   ]
  },
  {
   "cell_type": "code",
   "execution_count": 124,
   "id": "bd88761d",
   "metadata": {},
   "outputs": [
    {
     "data": {
      "text/plain": [
       "RandomizedSearchCV(cv=5, estimator=RandomForestRegressor(), n_jobs=-1,\n",
       "                   param_distributions={'max_depth': [10, 20, 30, 40, 50, 60,\n",
       "                                                      70, 80, 90, 100, 110,\n",
       "                                                      None],\n",
       "                                        'max_features': ['auto', 'sqrt',\n",
       "                                                         'log2'],\n",
       "                                        'min_samples_leaf': [1, 2, 4],\n",
       "                                        'min_samples_split': [2, 5, 10],\n",
       "                                        'n_estimators': [200, 400, 600, 800,\n",
       "                                                         1000, 1200, 1400, 1600,\n",
       "                                                         1800, 2000]},\n",
       "                   scoring='neg_mean_squared_error')"
      ]
     },
     "execution_count": 124,
     "metadata": {},
     "output_type": "execute_result"
    }
   ],
   "source": [
    "# Random Forest\n",
    "from sklearn.model_selection import RandomizedSearchCV\n",
    "from sklearn.ensemble import RandomForestRegressor\n",
    "n_estimators = [int(x) for x in np.linspace(start = 200, stop = 2000, num = 10)]\n",
    "max_features = ['auto', 'sqrt','log2']\n",
    "max_depth = [int(x) for x in np.linspace(10, 110, num = 11)]\n",
    "max_depth.append(None)\n",
    "min_samples_split = [2, 5, 10]\n",
    "min_samples_leaf = [1, 2, 4]\n",
    "random_grid = {'n_estimators': n_estimators,\n",
    "               'max_features': max_features,\n",
    "               'max_depth': max_depth,\n",
    "               'min_samples_split': min_samples_split,\n",
    "               'min_samples_leaf': min_samples_leaf}\n",
    "random = RandomizedSearchCV(estimator = RandomForestRegressor()  ,param_distributions = random_grid,scoring = 'neg_mean_squared_error',cv = 5,n_jobs = -1)\n",
    "random.fit(X_train,y_train)"
   ]
  },
  {
   "cell_type": "code",
   "execution_count": 125,
   "id": "a972920a",
   "metadata": {},
   "outputs": [],
   "source": [
    "y_pred = random.predict(X_test)"
   ]
  },
  {
   "cell_type": "code",
   "execution_count": 126,
   "id": "34577bfd",
   "metadata": {},
   "outputs": [],
   "source": [
    "from math import sqrt,log"
   ]
  },
  {
   "cell_type": "code",
   "execution_count": 127,
   "id": "4091cf98",
   "metadata": {},
   "outputs": [],
   "source": [
    "y_test_log = []\n",
    "for val in y_test:\n",
    "    y_test_log.append(log(val))"
   ]
  },
  {
   "cell_type": "code",
   "execution_count": 128,
   "id": "e99d9102",
   "metadata": {},
   "outputs": [],
   "source": [
    "y_pred_log = []\n",
    "for val in y_pred:\n",
    "    y_pred_log.append(log(val))"
   ]
  },
  {
   "cell_type": "code",
   "execution_count": 129,
   "id": "155fe84e",
   "metadata": {},
   "outputs": [],
   "source": [
    "from sklearn.metrics import mean_squared_error\n",
    "rms = sqrt(mean_squared_error(y_test_log, y_pred_log))"
   ]
  },
  {
   "cell_type": "code",
   "execution_count": 130,
   "id": "8edd7af5",
   "metadata": {},
   "outputs": [
    {
     "name": "stdout",
     "output_type": "stream",
     "text": [
      "0.15304555634045014\n"
     ]
    }
   ],
   "source": [
    "print(rms)"
   ]
  },
  {
   "cell_type": "code",
   "execution_count": 131,
   "id": "d458faf8",
   "metadata": {},
   "outputs": [
    {
     "data": {
      "text/plain": [
       "RandomizedSearchCV(cv=5, estimator=GradientBoostingRegressor(), n_jobs=-1,\n",
       "                   param_distributions={'learning_rate': [0.001, 0.01, 0.1],\n",
       "                                        'max_depth': [1, 2, 4],\n",
       "                                        'n_estimators': [500, 1000, 2000],\n",
       "                                        'random_state': [1],\n",
       "                                        'subsample': [0.5, 0.75, 1]},\n",
       "                   scoring='neg_mean_squared_error')"
      ]
     },
     "execution_count": 131,
     "metadata": {},
     "output_type": "execute_result"
    }
   ],
   "source": [
    "# Gradient Boosting\n",
    "from sklearn.ensemble import GradientBoostingRegressor\n",
    "random_grid={'n_estimators':[500,1000,2000],'learning_rate':[.001,0.01,.1],'max_depth':[1,2,4],'subsample':[.5,.75,1],'random_state':[1]}\n",
    "random = RandomizedSearchCV(estimator = GradientBoostingRegressor()  ,param_distributions = random_grid,scoring = 'neg_mean_squared_error',cv = 5,n_jobs = -1)\n",
    "random.fit(X_train,y_train)"
   ]
  },
  {
   "cell_type": "code",
   "execution_count": 132,
   "id": "5308670f",
   "metadata": {},
   "outputs": [],
   "source": [
    "y_pred = random.predict(X_test)"
   ]
  },
  {
   "cell_type": "code",
   "execution_count": 133,
   "id": "cfcb2e44",
   "metadata": {},
   "outputs": [],
   "source": [
    "y_test_log = []\n",
    "for val in y_test:\n",
    "    y_test_log.append(log(val))"
   ]
  },
  {
   "cell_type": "code",
   "execution_count": 134,
   "id": "f7b0e66d",
   "metadata": {},
   "outputs": [],
   "source": [
    "y_pred_log = []\n",
    "for val in y_pred:\n",
    "    y_pred_log.append(log(val))"
   ]
  },
  {
   "cell_type": "code",
   "execution_count": 135,
   "id": "463ad402",
   "metadata": {},
   "outputs": [],
   "source": [
    "from sklearn.metrics import mean_squared_error\n",
    "rms = sqrt(mean_squared_error(y_test_log, y_pred_log))"
   ]
  },
  {
   "cell_type": "code",
   "execution_count": 136,
   "id": "6ec40b77",
   "metadata": {},
   "outputs": [
    {
     "name": "stdout",
     "output_type": "stream",
     "text": [
      "0.15004686921327265\n"
     ]
    }
   ],
   "source": [
    "print(rms)"
   ]
  }
 ],
 "metadata": {
  "kernelspec": {
   "display_name": "Python 3",
   "language": "python",
   "name": "python3"
  },
  "language_info": {
   "codemirror_mode": {
    "name": "ipython",
    "version": 3
   },
   "file_extension": ".py",
   "mimetype": "text/x-python",
   "name": "python",
   "nbconvert_exporter": "python",
   "pygments_lexer": "ipython3",
   "version": "3.8.8"
  }
 },
 "nbformat": 4,
 "nbformat_minor": 5
}
